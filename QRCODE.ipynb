{
  "nbformat": 4,
  "nbformat_minor": 0,
  "metadata": {
    "colab": {
      "name": "QRCODE.ipynb",
      "provenance": [],
      "authorship_tag": "ABX9TyMT+7ztLDY9/4GDRXc3tAR1",
      "include_colab_link": true
    },
    "kernelspec": {
      "name": "python3",
      "display_name": "Python 3"
    },
    "language_info": {
      "name": "python"
    },
    "accelerator": "GPU"
  },
  "cells": [
    {
      "cell_type": "markdown",
      "metadata": {
        "id": "view-in-github",
        "colab_type": "text"
      },
      "source": [
        "<a href=\"https://colab.research.google.com/github/dqthang1323/Rename/blob/main/QRCODE.ipynb\" target=\"_parent\"><img src=\"https://colab.research.google.com/assets/colab-badge.svg\" alt=\"Open In Colab\"/></a>"
      ]
    },
    {
      "cell_type": "code",
      "metadata": {
        "colab": {
          "base_uri": "https://localhost:8080/"
        },
        "id": "ZCPG6rjiLY0l",
        "outputId": "53c25e73-edcd-4f83-f5b7-dec0b02bb0de"
      },
      "source": [
        "from google.colab import drive\n",
        "drive.mount('/content/drive')"
      ],
      "execution_count": 28,
      "outputs": [
        {
          "output_type": "stream",
          "name": "stdout",
          "text": [
            "Drive already mounted at /content/drive; to attempt to forcibly remount, call drive.mount(\"/content/drive\", force_remount=True).\n"
          ]
        }
      ]
    },
    {
      "cell_type": "code",
      "metadata": {
        "colab": {
          "base_uri": "https://localhost:8080/"
        },
        "id": "MLrfJZRjMAXk",
        "outputId": "7382201a-ec70-4dcc-9c2a-e7ea257afd8e"
      },
      "source": [
        "\n",
        "!unzip /drive/'My Drive'/ML/darknet.zip\n",
        "%cd /content/darknet"
      ],
      "execution_count": 33,
      "outputs": [
        {
          "output_type": "stream",
          "name": "stdout",
          "text": [
            "unzip:  cannot find or open /drive/My Drive/ML/darknet.zip, /drive/My Drive/ML/darknet.zip.zip or /drive/My Drive/ML/darknet.zip.ZIP.\n",
            "/content/darknet\n"
          ]
        }
      ]
    },
    {
      "cell_type": "code",
      "metadata": {
        "colab": {
          "base_uri": "https://localhost:8080/"
        },
        "id": "FtO5V5CxMPUU",
        "outputId": "e7038ec5-0230-4eb2-97ee-1acdf05be01a"
      },
      "source": [
        "%cd /content/drive/"
      ],
      "execution_count": 34,
      "outputs": [
        {
          "output_type": "stream",
          "name": "stdout",
          "text": [
            "/content/drive\n"
          ]
        }
      ]
    },
    {
      "cell_type": "code",
      "metadata": {
        "colab": {
          "base_uri": "https://localhost:8080/"
        },
        "id": "7zbViYmSMWFd",
        "outputId": "099a622d-8f0d-44b3-c1a8-e35b44559e2c"
      },
      "source": [
        "%cd /content"
      ],
      "execution_count": 35,
      "outputs": [
        {
          "output_type": "stream",
          "name": "stdout",
          "text": [
            "/content\n"
          ]
        }
      ]
    },
    {
      "cell_type": "code",
      "metadata": {
        "colab": {
          "base_uri": "https://localhost:8080/"
        },
        "id": "79eBjcXNNbo1",
        "outputId": "d33b43c1-c7f0-44ff-8352-05c215d57335"
      },
      "source": [
        "!unzip /content/drive/'MyDrive'/ML/darknet.zip"
      ],
      "execution_count": null,
      "outputs": [
        {
          "output_type": "stream",
          "name": "stdout",
          "text": [
            "Archive:  /content/drive/MyDrive/ML/darknet.zip\n",
            "replace darknet/.circleci/config.yml? [y]es, [n]o, [A]ll, [N]one, [r]ename: y\n",
            "  inflating: darknet/.circleci/config.yml  \n",
            "replace darknet/.git/config? [y]es, [n]o, [A]ll, [N]one, [r]ename: all\n",
            "error:  invalid response [all]\n",
            "replace darknet/.git/config? [y]es, [n]o, [A]ll, [N]one, [r]ename: a\n",
            "error:  invalid response [a]\n",
            "replace darknet/.git/config? [y]es, [n]o, [A]ll, [N]one, [r]ename: y\n",
            "  inflating: darknet/.git/config     \n",
            "replace darknet/.git/description? [y]es, [n]o, [A]ll, [N]one, [r]ename: y a\n",
            "  inflating: darknet/.git/description  \n",
            "replace darknet/.git/HEAD? [y]es, [n]o, [A]ll, [N]one, [r]ename: y a\n",
            "  inflating: darknet/.git/HEAD       \n",
            "replace darknet/.git/hooks/applypatch-msg.sample? [y]es, [n]o, [A]ll, [N]one, [r]ename: ya\n",
            "  inflating: darknet/.git/hooks/applypatch-msg.sample  \n",
            "replace darknet/.git/hooks/commit-msg.sample? [y]es, [n]o, [A]ll, [N]one, [r]ename: y\n",
            "  inflating: darknet/.git/hooks/commit-msg.sample  \n",
            "replace darknet/.git/hooks/fsmonitor-watchman.sample? [y]es, [n]o, [A]ll, [N]one, [r]ename: y\n",
            "  inflating: darknet/.git/hooks/fsmonitor-watchman.sample  \n",
            "replace darknet/.git/hooks/post-update.sample? [y]es, [n]o, [A]ll, [N]one, [r]ename: y\n",
            "  inflating: darknet/.git/hooks/post-update.sample  \n",
            "replace darknet/.git/hooks/pre-applypatch.sample? [y]es, [n]o, [A]ll, [N]one, [r]ename: y\n",
            "  inflating: darknet/.git/hooks/pre-applypatch.sample  \n",
            "replace darknet/.git/hooks/pre-commit.sample? [y]es, [n]o, [A]ll, [N]one, [r]ename: y\n",
            "  inflating: darknet/.git/hooks/pre-commit.sample  \n",
            "replace darknet/.git/hooks/pre-merge-commit.sample? [y]es, [n]o, [A]ll, [N]one, [r]ename: y\n",
            "  inflating: darknet/.git/hooks/pre-merge-commit.sample  \n",
            "replace darknet/.git/hooks/pre-push.sample? [y]es, [n]o, [A]ll, [N]one, [r]ename: y\n",
            "  inflating: darknet/.git/hooks/pre-push.sample  \n",
            "replace darknet/.git/hooks/pre-rebase.sample? [y]es, [n]o, [A]ll, [N]one, [r]ename: y\n",
            "  inflating: darknet/.git/hooks/pre-rebase.sample  \n",
            "replace darknet/.git/hooks/pre-receive.sample? [y]es, [n]o, [A]ll, [N]one, [r]ename: y\n",
            "  inflating: darknet/.git/hooks/pre-receive.sample  \n",
            "replace darknet/.git/hooks/prepare-commit-msg.sample? [y]es, [n]o, [A]ll, [N]one, [r]ename: y\n",
            "  inflating: darknet/.git/hooks/prepare-commit-msg.sample  \n",
            "replace darknet/.git/hooks/push-to-checkout.sample? [y]es, [n]o, [A]ll, [N]one, [r]ename: y\n",
            "  inflating: darknet/.git/hooks/push-to-checkout.sample  \n",
            "replace darknet/.git/hooks/update.sample? [y]es, [n]o, [A]ll, [N]one, [r]ename: y\n",
            "  inflating: darknet/.git/hooks/update.sample  \n",
            "replace darknet/.git/index? [y]es, [n]o, [A]ll, [N]one, [r]ename: y\n",
            "  inflating: darknet/.git/index      \n",
            "replace darknet/.git/info/exclude? [y]es, [n]o, [A]ll, [N]one, [r]ename: \n",
            "error:  invalid response [{ENTER}]\n",
            "replace darknet/.git/info/exclude? [y]es, [n]o, [A]ll, [N]one, [r]ename: y\n",
            "  inflating: darknet/.git/info/exclude  \n",
            "replace darknet/.git/logs/HEAD? [y]es, [n]o, [A]ll, [N]one, [r]ename: y\n",
            "  inflating: darknet/.git/logs/HEAD  \n",
            "replace darknet/.git/logs/refs/heads/master? [y]es, [n]o, [A]ll, [N]one, [r]ename: y\n",
            "  inflating: darknet/.git/logs/refs/heads/master  \n",
            "replace darknet/.git/logs/refs/remotes/origin/HEAD? [y]es, [n]o, [A]ll, [N]one, [r]ename: y\n",
            "  inflating: darknet/.git/logs/refs/remotes/origin/HEAD  \n",
            "replace darknet/.git/objects/pack/pack-da95617b263eca340a379d68c42902e243c938ff.idx? [y]es, [n]o, [A]ll, [N]one, [r]ename: y\n",
            "  inflating: darknet/.git/objects/pack/pack-da95617b263eca340a379d68c42902e243c938ff.idx  \n",
            "replace darknet/.git/objects/pack/pack-da95617b263eca340a379d68c42902e243c938ff.pack? [y]es, [n]o, [A]ll, [N]one, [r]ename: y\n",
            "  inflating: darknet/.git/objects/pack/pack-da95617b263eca340a379d68c42902e243c938ff.pack  \n",
            "replace darknet/.git/packed-refs? [y]es, [n]o, [A]ll, [N]one, [r]ename: y\n",
            "  inflating: darknet/.git/packed-refs  \n",
            "replace darknet/.git/refs/heads/master? [y]es, [n]o, [A]ll, [N]one, [r]ename: a\n",
            "error:  invalid response [a]\n",
            "replace darknet/.git/refs/heads/master? [y]es, [n]o, [A]ll, [N]one, [r]ename: a\n",
            "error:  invalid response [a]\n",
            "replace darknet/.git/refs/heads/master? [y]es, [n]o, [A]ll, [N]one, [r]ename: y\n",
            "  inflating: darknet/.git/refs/heads/master  \n",
            "replace darknet/.git/refs/remotes/origin/HEAD? [y]es, [n]o, [A]ll, [N]one, [r]ename: y\n",
            "  inflating: darknet/.git/refs/remotes/origin/HEAD  \n",
            "replace darknet/.github/FUNDING.yml? [y]es, [n]o, [A]ll, [N]one, [r]ename: y\n",
            "  inflating: darknet/.github/FUNDING.yml  \n",
            "replace darknet/.github/ISSUE_TEMPLATE/any-other-question-or-issue.md? [y]es, [n]o, [A]ll, [N]one, [r]ename: y\n",
            "  inflating: darknet/.github/ISSUE_TEMPLATE/any-other-question-or-issue.md  \n",
            "replace darknet/.github/ISSUE_TEMPLATE/bug-report.md? [y]es, [n]o, [A]ll, [N]one, [r]ename: y\n",
            "  inflating: darknet/.github/ISSUE_TEMPLATE/bug-report.md  \n",
            "replace darknet/.github/ISSUE_TEMPLATE/feature_request.md? [y]es, [n]o, [A]ll, [N]one, [r]ename: y\n",
            "  inflating: darknet/.github/ISSUE_TEMPLATE/feature_request.md  \n",
            "replace darknet/.github/ISSUE_TEMPLATE/training-issue---no-detections---nan-avg-loss---low-accuracy.md? [y]es, [n]o, [A]ll, [N]one, [r]ename: y\n",
            "  inflating: darknet/.github/ISSUE_TEMPLATE/training-issue---no-detections---nan-avg-loss---low-accuracy.md  \n",
            "replace darknet/.github/workflows/ccpp.yml? [y]es, [n]o, [A]ll, [N]one, [r]ename: y\n",
            "  inflating: darknet/.github/workflows/ccpp.yml  \n",
            "replace darknet/.github/workflows/on_pr.yml? [y]es, [n]o, [A]ll, [N]one, [r]ename: y\n",
            "  inflating: darknet/.github/workflows/on_pr.yml  \n",
            "replace darknet/.github/workflows/rebase.yml? [y]es, [n]o, [A]ll, [N]one, [r]ename: y\n",
            "  inflating: darknet/.github/workflows/rebase.yml  \n",
            "replace darknet/.gitignore? [y]es, [n]o, [A]ll, [N]one, [r]ename: "
          ]
        }
      ]
    },
    {
      "cell_type": "code",
      "metadata": {
        "colab": {
          "base_uri": "https://localhost:8080/"
        },
        "id": "4Bk81RKdOE8N",
        "outputId": "b0e00638-0b72-4602-a68b-902aa85739da"
      },
      "source": [
        "%cd /content/darknet\n"
      ],
      "execution_count": 23,
      "outputs": [
        {
          "output_type": "stream",
          "name": "stdout",
          "text": [
            "/content/darknet\n"
          ]
        }
      ]
    },
    {
      "cell_type": "code",
      "metadata": {
        "id": "4uh7jE53OKnM"
      },
      "source": [
        "%cd /content/darknet\n",
        "!make clean\n",
        "!make\n",
        "!chmod +x ./darknet"
      ],
      "execution_count": null,
      "outputs": []
    },
    {
      "cell_type": "code",
      "metadata": {
        "id": "51vtwvHDOkkE"
      },
      "source": [
        "!rm /content/darknet/backup -r\n",
        "!ln -s /content/drive/'My Drive'/ML/backup /content/darknet"
      ],
      "execution_count": 25,
      "outputs": []
    },
    {
      "cell_type": "code",
      "metadata": {
        "colab": {
          "base_uri": "https://localhost:8080/"
        },
        "id": "jQeKw3eeOvxL",
        "outputId": "54825749-cea0-409a-c984-38037c69e75c"
      },
      "source": [
        "%cd /content/darknet\n",
        "!./darknet detector train yolo.data cfg/yolov3-tiny.cfg darknet53.conv.74"
      ],
      "execution_count": 27,
      "outputs": [
        {
          "output_type": "stream",
          "name": "stdout",
          "text": [
            "/content/darknet\n",
            " CUDA-version: 11010 (11020), GPU count: 1  \n",
            " OpenCV isn't used - data augmentation will be slow \n",
            "yolov3-tiny\n",
            " 0 : compute_capability = 370, cudnn_half = 0, GPU: Tesla K80 \n",
            "net.optimized_memory = 0 \n",
            "mini_batch = 8, batch = 64, time_steps = 1, train = 1 \n",
            "   layer   filters  size/strd(dil)      input                output\n",
            "   0 Create CUDA-stream - 0 \n",
            "conv     16       3 x 3/ 1    416 x 416 x   3 ->  416 x 416 x  16 0.150 BF\n",
            "   1 max                2x 2/ 2    416 x 416 x  16 ->  208 x 208 x  16 0.003 BF\n",
            "   2 conv     32       3 x 3/ 1    208 x 208 x  16 ->  208 x 208 x  32 0.399 BF\n",
            "   3 max                2x 2/ 2    208 x 208 x  32 ->  104 x 104 x  32 0.001 BF\n",
            "   4 conv     64       3 x 3/ 1    104 x 104 x  32 ->  104 x 104 x  64 0.399 BF\n",
            "   5 max                2x 2/ 2    104 x 104 x  64 ->   52 x  52 x  64 0.001 BF\n",
            "   6 conv    128       3 x 3/ 1     52 x  52 x  64 ->   52 x  52 x 128 0.399 BF\n",
            "   7 max                2x 2/ 2     52 x  52 x 128 ->   26 x  26 x 128 0.000 BF\n",
            "   8 conv    256       3 x 3/ 1     26 x  26 x 128 ->   26 x  26 x 256 0.399 BF\n",
            "   9 max                2x 2/ 2     26 x  26 x 256 ->   13 x  13 x 256 0.000 BF\n",
            "  10 conv    512       3 x 3/ 1     13 x  13 x 256 ->   13 x  13 x 512 0.399 BF\n",
            "  11 max                2x 2/ 1     13 x  13 x 512 ->   13 x  13 x 512 0.000 BF\n",
            "  12 conv   1024       3 x 3/ 1     13 x  13 x 512 ->   13 x  13 x1024 1.595 BF\n",
            "  13 conv    256       1 x 1/ 1     13 x  13 x1024 ->   13 x  13 x 256 0.089 BF\n",
            "  14 conv    512       3 x 3/ 1     13 x  13 x 256 ->   13 x  13 x 512 0.399 BF\n",
            "  15 conv    343       1 x 1/ 1     13 x  13 x 512 ->   13 x  13 x 343 0.059 BF\n",
            "  16 yolo\n",
            "Error: l.outputs == params.inputs \n",
            "filters= in the [convolutional]-layer doesn't correspond to classes= or mask= in [yolo]-layer \n"
          ]
        }
      ]
    }
  ]
}